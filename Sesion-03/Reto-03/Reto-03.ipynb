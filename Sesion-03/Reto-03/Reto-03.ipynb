{
 "cells": [
  {
   "cell_type": "markdown",
   "metadata": {},
   "source": [
    "# Reto 03 \n",
    "## Dr Antonio Arista Jalife\n",
    "\n",
    "Realiza un simple producto punto entre dos matrices de 2 x 2."
   ]
  },
  {
   "cell_type": "code",
   "execution_count": 1,
   "metadata": {},
   "outputs": [],
   "source": [
    "import numpy as np"
   ]
  },
  {
   "cell_type": "code",
   "execution_count": 2,
   "metadata": {},
   "outputs": [],
   "source": [
    "def productoPunto(matrizA, matrizB):\n",
    "    resultado = np.zeros((2,2))\n",
    "    resultado[0,0] = (matrizA[0,0] * matrizB[0,0]) + (matrizA[0,1] * matrizB[1,0])\n",
    "    resultado[0,1] = (matrizA[0,0] * matrizB[0,1]) + (matrizA[0,1] * matrizB[1,1])\n",
    "    resultado[1,0] = (matrizA[1,0] * matrizB[0,0]) + (matrizA[1,1] * matrizB[1,0])\n",
    "    resultado[1,1] = (matrizA[1,0] * matrizB[0,1]) + (matrizA[1,1] * matrizB[1,1])\n",
    "    return resultado"
   ]
  },
  {
   "cell_type": "code",
   "execution_count": 3,
   "metadata": {},
   "outputs": [
    {
     "name": "stdout",
     "output_type": "stream",
     "text": [
      "[[38. 17.]\n",
      " [26. 14.]]\n"
     ]
    }
   ],
   "source": [
    "matrizA = np.array([[1,7],[2,4]])\n",
    "matrizB = np.array([[3,3],[5,2]])\n",
    "print(productoPunto(matrizA,matrizB))"
   ]
  },
  {
   "cell_type": "code",
   "execution_count": null,
   "metadata": {},
   "outputs": [],
   "source": []
  }
 ],
 "metadata": {
  "kernelspec": {
   "display_name": "Python 3",
   "language": "python",
   "name": "python3"
  },
  "language_info": {
   "codemirror_mode": {
    "name": "ipython",
    "version": 3
   },
   "file_extension": ".py",
   "mimetype": "text/x-python",
   "name": "python",
   "nbconvert_exporter": "python",
   "pygments_lexer": "ipython3",
   "version": "3.5.2"
  }
 },
 "nbformat": 4,
 "nbformat_minor": 2
}
