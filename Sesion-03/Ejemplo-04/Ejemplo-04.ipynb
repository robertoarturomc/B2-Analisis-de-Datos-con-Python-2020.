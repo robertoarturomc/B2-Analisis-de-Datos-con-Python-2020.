{
 "cells": [
  {
   "cell_type": "markdown",
   "metadata": {},
   "source": [
    "# Funciones útiles en NumPy\n",
    "### Dr. Antonio Arista Jalife.\n",
    "Supongamos que queremos saber la suma de todas las columnas y filas de una matriz.\n",
    "(Super util para sacar datos estadísticos)."
   ]
  },
  {
   "cell_type": "code",
   "execution_count": 1,
   "metadata": {},
   "outputs": [],
   "source": [
    "import numpy as np"
   ]
  },
  {
   "cell_type": "code",
   "execution_count": 2,
   "metadata": {},
   "outputs": [
    {
     "name": "stdout",
     "output_type": "stream",
     "text": [
      "[3 6 9]\n",
      "[6 6 6]\n",
      "18\n"
     ]
    }
   ],
   "source": [
    "matriz = np.array([[1,1,1],\n",
    "                   [2,2,2],\n",
    "                   [3,3,3]])\n",
    "\n",
    "suma_filas = np.sum(matriz, axis = 1)\n",
    "print(suma_filas)\n",
    "\n",
    "suma_columnas = np.sum(matriz, axis = 0)\n",
    "print(suma_columnas)\n",
    "\n",
    "sumaTodo = np.sum(matriz, axis = None)\n",
    "print(sumaTodo)"
   ]
  }
 ],
 "metadata": {
  "kernelspec": {
   "display_name": "Python 3",
   "language": "python",
   "name": "python3"
  },
  "language_info": {
   "codemirror_mode": {
    "name": "ipython",
    "version": 3
   },
   "file_extension": ".py",
   "mimetype": "text/x-python",
   "name": "python",
   "nbconvert_exporter": "python",
   "pygments_lexer": "ipython3",
   "version": "3.5.2"
  }
 },
 "nbformat": 4,
 "nbformat_minor": 2
}
