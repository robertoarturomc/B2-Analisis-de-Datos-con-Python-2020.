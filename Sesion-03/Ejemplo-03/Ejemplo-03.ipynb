{
 "cells": [
  {
   "cell_type": "markdown",
   "metadata": {},
   "source": [
    "# Ejemplo 03\n",
    "### Dr. Antonio Arista Jalife.\n",
    "\n",
    "En este ejemplo vamos a aprender a filtrar datos por medio de máscaas de verdadero y falso. "
   ]
  },
  {
   "cell_type": "code",
   "execution_count": 1,
   "metadata": {},
   "outputs": [],
   "source": [
    "import numpy as np"
   ]
  },
  {
   "cell_type": "code",
   "execution_count": 2,
   "metadata": {},
   "outputs": [
    {
     "name": "stdout",
     "output_type": "stream",
     "text": [
      "[[ True  True  True]\n",
      " [ True False False]\n",
      " [False False False]]\n"
     ]
    }
   ],
   "source": [
    "matriz = np.array([[1,2,3],\n",
    "                   [4,5,6],\n",
    "                   [7,8,9]])\n",
    "\n",
    "matrizBooleana = (matriz < 5)\n",
    "print(matrizBooleana)"
   ]
  },
  {
   "cell_type": "code",
   "execution_count": 3,
   "metadata": {},
   "outputs": [
    {
     "name": "stdout",
     "output_type": "stream",
     "text": [
      "[[1 1 1]\n",
      " [1 0 0]\n",
      " [0 0 0]]\n",
      "Solo los valores menores a 5:\n",
      "[[1 2 3]\n",
      " [4 0 0]\n",
      " [0 0 0]]\n"
     ]
    }
   ],
   "source": [
    "filtro = np.array(matrizBooleana, dtype = np.int32)\n",
    "print(filtro)\n",
    "#con este filtro, quitamos todos los elementos mayores a 5\n",
    "resultado = matriz * filtro\n",
    "print(\"Solo los valores menores a 5:\")\n",
    "print(resultado)"
   ]
  },
  {
   "cell_type": "code",
   "execution_count": null,
   "metadata": {},
   "outputs": [],
   "source": []
  }
 ],
 "metadata": {
  "kernelspec": {
   "display_name": "Python 3",
   "language": "python",
   "name": "python3"
  },
  "language_info": {
   "codemirror_mode": {
    "name": "ipython",
    "version": 3
   },
   "file_extension": ".py",
   "mimetype": "text/x-python",
   "name": "python",
   "nbconvert_exporter": "python",
   "pygments_lexer": "ipython3",
   "version": "3.5.2"
  }
 },
 "nbformat": 4,
 "nbformat_minor": 2
}
