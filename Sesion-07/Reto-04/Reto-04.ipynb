{
 "cells": [
  {
   "cell_type": "markdown",
   "metadata": {},
   "source": [
    "## Reto 04.\n",
    "En este reto hemos de programar un regresor lineal que dados dos datos: Radio de pizza y cantidad de ingredientes, nos calcule cuanto debe pagar una persona por un pedido inusual. "
   ]
  },
  {
   "cell_type": "code",
   "execution_count": 1,
   "metadata": {},
   "outputs": [],
   "source": [
    "import numpy as np\n",
    "from sklearn.linear_model import LinearRegression"
   ]
  },
  {
   "cell_type": "code",
   "execution_count": 2,
   "metadata": {},
   "outputs": [],
   "source": [
    "#X contiene un arreglo de datos: cada columna es: [Radio de pizza, # de ingredientes]:\n",
    "x = np.array([[10.0, 2],\n",
    "              [15.0, 3],\n",
    "              [20.0, 4],\n",
    "              [15.0, 1],\n",
    "              [25.0, 3],\n",
    "              [10.0, 1]\n",
    "             ])\n",
    "\n",
    "#Y contiene el precio de cada una de las pizzas. \n",
    "y = np.array([100, 150, 200, 100, 200, 80])\n",
    "\n",
    "#SI alguien pide una pizza rara de 30 cms de radio y 8 ingredientes, cuanto le debemos cobrar?\n",
    "pizza_rara = np.array([30.0, 8])"
   ]
  },
  {
   "cell_type": "code",
   "execution_count": 3,
   "metadata": {},
   "outputs": [],
   "source": [
    "model = LinearRegression().fit(x,y)"
   ]
  },
  {
   "cell_type": "code",
   "execution_count": 4,
   "metadata": {},
   "outputs": [
    {
     "name": "stdout",
     "output_type": "stream",
     "text": [
      "Debemos cobrarle $[346.] por la pizza...\n"
     ]
    }
   ],
   "source": [
    "y_prediccion = model.predict([pizza_rara])\n",
    "print(\"Debemos cobrarle $\"+str(y_prediccion)+\" por la pizza...\")"
   ]
  },
  {
   "cell_type": "code",
   "execution_count": 9,
   "metadata": {},
   "outputs": [
    {
     "data": {
      "text/plain": [
       "array([ 4.91764706, 24.35294118])"
      ]
     },
     "execution_count": 9,
     "metadata": {},
     "output_type": "execute_result"
    }
   ],
   "source": [
    "model.coef_"
   ]
  },
  {
   "cell_type": "code",
   "execution_count": 10,
   "metadata": {},
   "outputs": [
    {
     "data": {
      "text/plain": [
       "3.64705882352942"
      ]
     },
     "execution_count": 10,
     "metadata": {},
     "output_type": "execute_result"
    }
   ],
   "source": [
    "model.intercept_"
   ]
  },
  {
   "cell_type": "code",
   "execution_count": 11,
   "metadata": {},
   "outputs": [
    {
     "data": {
      "text/plain": [
       "array([[10., 15., 20., 15., 25., 10.],\n",
       "       [ 2.,  3.,  4.,  1.,  3.,  1.]])"
      ]
     },
     "execution_count": 11,
     "metadata": {},
     "output_type": "execute_result"
    }
   ],
   "source": [
    "x.T"
   ]
  },
  {
   "cell_type": "code",
   "execution_count": null,
   "metadata": {},
   "outputs": [],
   "source": []
  }
 ],
 "metadata": {
  "kernelspec": {
   "display_name": "Python 3",
   "language": "python",
   "name": "python3"
  },
  "language_info": {
   "codemirror_mode": {
    "name": "ipython",
    "version": 3
   },
   "file_extension": ".py",
   "mimetype": "text/x-python",
   "name": "python",
   "nbconvert_exporter": "python",
   "pygments_lexer": "ipython3",
   "version": "3.8.2"
  }
 },
 "nbformat": 4,
 "nbformat_minor": 2
}
