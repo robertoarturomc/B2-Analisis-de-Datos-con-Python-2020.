{
 "cells": [
  {
   "cell_type": "markdown",
   "metadata": {},
   "source": [
    "# Diccionarios, JSONs y Analísis Estadísticos de Datos\n",
    "## Reto 02\n",
    "Describete a ti mismo con un diccionario. Agrega campos que requieras."
   ]
  },
  {
   "cell_type": "code",
   "execution_count": 1,
   "metadata": {},
   "outputs": [],
   "source": [
    "profeAntonio = {\n",
    "    'Nombre':'Antonio',\n",
    "    'Apellido':'Arista',\n",
    "    'Edad':32,\n",
    "    'Hobbies':['Artes Marciales', 'Escritura','Lectura'] \n",
    "}"
   ]
  }
 ],
 "metadata": {
  "kernelspec": {
   "display_name": "Python 3",
   "language": "python",
   "name": "python3"
  },
  "language_info": {
   "codemirror_mode": {
    "name": "ipython",
    "version": 3
   },
   "file_extension": ".py",
   "mimetype": "text/x-python",
   "name": "python",
   "nbconvert_exporter": "python",
   "pygments_lexer": "ipython3",
   "version": "3.5.2"
  }
 },
 "nbformat": 4,
 "nbformat_minor": 2
}
