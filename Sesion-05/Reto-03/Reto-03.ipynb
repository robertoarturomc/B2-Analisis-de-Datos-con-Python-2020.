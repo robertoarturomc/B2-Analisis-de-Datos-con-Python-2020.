{
 "cells": [
  {
   "cell_type": "markdown",
   "metadata": {},
   "source": [
    "## Reto 03 \n",
    "Crea varios dataframes y unelos por medio de merge. Esto es útil para cuando deseas unir dataframes con órdenes desiguales."
   ]
  },
  {
   "cell_type": "code",
   "execution_count": 1,
   "metadata": {},
   "outputs": [],
   "source": [
    "import pandas as pd"
   ]
  },
  {
   "cell_type": "code",
   "execution_count": 2,
   "metadata": {},
   "outputs": [],
   "source": [
    "df_telefonos = pd.DataFrame({'nombre_t':['Juan', 'Luis', 'Maria', 'Ricardo'],\n",
    "                            'telefono':[111111111,22222222,33333333,44444444]});\n",
    "df_edades = pd.DataFrame({'nombre_e':['Luis', 'Juan', 'Maria', 'Ricardo'],\n",
    "                            'edad':[18,26,42,31]});\n",
    "df_correos = pd.DataFrame({'nombre_c':['Luis', 'Juan', 'Maria', 'Ricardo'],\n",
    "                            'email':[\"luis@gmail.com\",\"juan@gmail.com\",\"maria@yahoo.com\",\"ricardo@hotmail.com\"]});\n",
    "df_estadocivil = pd.DataFrame({'nombre_ec':['Luis', 'Juan', 'Maria', 'Ricardo'],\n",
    "                            'estado civil':[\"Soltero\",\"Casado\",\"Soltero\",\"Divorciado\"]});"
   ]
  },
  {
   "cell_type": "code",
   "execution_count": 3,
   "metadata": {},
   "outputs": [
    {
     "data": {
      "text/html": [
       "<div>\n",
       "<style scoped>\n",
       "    .dataframe tbody tr th:only-of-type {\n",
       "        vertical-align: middle;\n",
       "    }\n",
       "\n",
       "    .dataframe tbody tr th {\n",
       "        vertical-align: top;\n",
       "    }\n",
       "\n",
       "    .dataframe thead th {\n",
       "        text-align: right;\n",
       "    }\n",
       "</style>\n",
       "<table border=\"1\" class=\"dataframe\">\n",
       "  <thead>\n",
       "    <tr style=\"text-align: right;\">\n",
       "      <th></th>\n",
       "      <th>nombre_t</th>\n",
       "      <th>telefono</th>\n",
       "      <th>edad</th>\n",
       "      <th>nombre_e</th>\n",
       "      <th>email</th>\n",
       "      <th>nombre_c</th>\n",
       "      <th>estado civil</th>\n",
       "      <th>nombre_ec</th>\n",
       "    </tr>\n",
       "  </thead>\n",
       "  <tbody>\n",
       "    <tr>\n",
       "      <th>0</th>\n",
       "      <td>Juan</td>\n",
       "      <td>111111111</td>\n",
       "      <td>26</td>\n",
       "      <td>Juan</td>\n",
       "      <td>juan@gmail.com</td>\n",
       "      <td>Juan</td>\n",
       "      <td>Casado</td>\n",
       "      <td>Juan</td>\n",
       "    </tr>\n",
       "    <tr>\n",
       "      <th>1</th>\n",
       "      <td>Luis</td>\n",
       "      <td>22222222</td>\n",
       "      <td>18</td>\n",
       "      <td>Luis</td>\n",
       "      <td>luis@gmail.com</td>\n",
       "      <td>Luis</td>\n",
       "      <td>Soltero</td>\n",
       "      <td>Luis</td>\n",
       "    </tr>\n",
       "    <tr>\n",
       "      <th>2</th>\n",
       "      <td>Maria</td>\n",
       "      <td>33333333</td>\n",
       "      <td>42</td>\n",
       "      <td>Maria</td>\n",
       "      <td>maria@yahoo.com</td>\n",
       "      <td>Maria</td>\n",
       "      <td>Soltero</td>\n",
       "      <td>Maria</td>\n",
       "    </tr>\n",
       "    <tr>\n",
       "      <th>3</th>\n",
       "      <td>Ricardo</td>\n",
       "      <td>44444444</td>\n",
       "      <td>31</td>\n",
       "      <td>Ricardo</td>\n",
       "      <td>ricardo@hotmail.com</td>\n",
       "      <td>Ricardo</td>\n",
       "      <td>Divorciado</td>\n",
       "      <td>Ricardo</td>\n",
       "    </tr>\n",
       "  </tbody>\n",
       "</table>\n",
       "</div>"
      ],
      "text/plain": [
       "  nombre_t   telefono  edad nombre_e                email nombre_c  \\\n",
       "0     Juan  111111111    26     Juan       juan@gmail.com     Juan   \n",
       "1     Luis   22222222    18     Luis       luis@gmail.com     Luis   \n",
       "2    Maria   33333333    42    Maria      maria@yahoo.com    Maria   \n",
       "3  Ricardo   44444444    31  Ricardo  ricardo@hotmail.com  Ricardo   \n",
       "\n",
       "  estado civil nombre_ec  \n",
       "0       Casado      Juan  \n",
       "1      Soltero      Luis  \n",
       "2      Soltero     Maria  \n",
       "3   Divorciado   Ricardo  "
      ]
     },
     "execution_count": 3,
     "metadata": {},
     "output_type": "execute_result"
    }
   ],
   "source": [
    "df_resultado = df_telefonos.merge(df_edades,left_on='nombre_t',right_on='nombre_e')\n",
    "df_resultado = df_resultado.merge(df_correos,left_on='nombre_t',right_on='nombre_c')\n",
    "df_resultado = df_resultado.merge(df_estadocivil,left_on='nombre_t',right_on='nombre_ec')\n",
    "df_resultado"
   ]
  },
  {
   "cell_type": "code",
   "execution_count": 4,
   "metadata": {},
   "outputs": [
    {
     "data": {
      "text/html": [
       "<div>\n",
       "<style scoped>\n",
       "    .dataframe tbody tr th:only-of-type {\n",
       "        vertical-align: middle;\n",
       "    }\n",
       "\n",
       "    .dataframe tbody tr th {\n",
       "        vertical-align: top;\n",
       "    }\n",
       "\n",
       "    .dataframe thead th {\n",
       "        text-align: right;\n",
       "    }\n",
       "</style>\n",
       "<table border=\"1\" class=\"dataframe\">\n",
       "  <thead>\n",
       "    <tr style=\"text-align: right;\">\n",
       "      <th></th>\n",
       "      <th>nombre_t</th>\n",
       "      <th>telefono</th>\n",
       "      <th>edad</th>\n",
       "      <th>email</th>\n",
       "      <th>estado civil</th>\n",
       "    </tr>\n",
       "  </thead>\n",
       "  <tbody>\n",
       "    <tr>\n",
       "      <th>0</th>\n",
       "      <td>Juan</td>\n",
       "      <td>111111111</td>\n",
       "      <td>26</td>\n",
       "      <td>juan@gmail.com</td>\n",
       "      <td>Casado</td>\n",
       "    </tr>\n",
       "    <tr>\n",
       "      <th>1</th>\n",
       "      <td>Luis</td>\n",
       "      <td>22222222</td>\n",
       "      <td>18</td>\n",
       "      <td>luis@gmail.com</td>\n",
       "      <td>Soltero</td>\n",
       "    </tr>\n",
       "    <tr>\n",
       "      <th>2</th>\n",
       "      <td>Maria</td>\n",
       "      <td>33333333</td>\n",
       "      <td>42</td>\n",
       "      <td>maria@yahoo.com</td>\n",
       "      <td>Soltero</td>\n",
       "    </tr>\n",
       "    <tr>\n",
       "      <th>3</th>\n",
       "      <td>Ricardo</td>\n",
       "      <td>44444444</td>\n",
       "      <td>31</td>\n",
       "      <td>ricardo@hotmail.com</td>\n",
       "      <td>Divorciado</td>\n",
       "    </tr>\n",
       "  </tbody>\n",
       "</table>\n",
       "</div>"
      ],
      "text/plain": [
       "  nombre_t   telefono  edad                email estado civil\n",
       "0     Juan  111111111    26       juan@gmail.com       Casado\n",
       "1     Luis   22222222    18       luis@gmail.com      Soltero\n",
       "2    Maria   33333333    42      maria@yahoo.com      Soltero\n",
       "3  Ricardo   44444444    31  ricardo@hotmail.com   Divorciado"
      ]
     },
     "execution_count": 4,
     "metadata": {},
     "output_type": "execute_result"
    }
   ],
   "source": [
    "df_resultado = df_resultado[['nombre_t','telefono','edad','email','estado civil']]\n",
    "df_resultado"
   ]
  },
  {
   "cell_type": "code",
   "execution_count": null,
   "metadata": {},
   "outputs": [],
   "source": []
  }
 ],
 "metadata": {
  "kernelspec": {
   "display_name": "Python 3",
   "language": "python",
   "name": "python3"
  },
  "language_info": {
   "codemirror_mode": {
    "name": "ipython",
    "version": 3
   },
   "file_extension": ".py",
   "mimetype": "text/x-python",
   "name": "python",
   "nbconvert_exporter": "python",
   "pygments_lexer": "ipython3",
   "version": "3.5.2"
  }
 },
 "nbformat": 4,
 "nbformat_minor": 2
}
