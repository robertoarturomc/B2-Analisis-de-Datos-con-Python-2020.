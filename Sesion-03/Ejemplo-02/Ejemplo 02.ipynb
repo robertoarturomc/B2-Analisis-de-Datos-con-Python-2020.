{
 "cells": [
  {
   "cell_type": "markdown",
   "metadata": {},
   "source": [
    "# Ejemplo 02\n",
    "### Dr. Antonio Arista Jalife.\n",
    "\n",
    "Como se mencionó antes, NumPy trabaja sobre arreglos y matrices. Todos los elementos de un vector, matriz, cubo, tensor, etc... son del mismo tipo. Por ello, hay una función llamada dtype que sirve para ver el tipo de dato dentro de la estructura NumPy."
   ]
  },
  {
   "cell_type": "code",
   "execution_count": 1,
   "metadata": {},
   "outputs": [],
   "source": [
    "import numpy as np"
   ]
  },
  {
   "cell_type": "code",
   "execution_count": 2,
   "metadata": {},
   "outputs": [
    {
     "name": "stdout",
     "output_type": "stream",
     "text": [
      "<class 'numpy.ndarray'>\n",
      "<class 'numpy.ndarray'>\n"
     ]
    }
   ],
   "source": [
    "vectorInt = np.array([1,2,3])\n",
    "vectorFloat = np.array([1.1,2.2,3.3])\n",
    "\n",
    "print(type(vectorInt))\n",
    "print(type(vectorFloat))"
   ]
  },
  {
   "cell_type": "code",
   "execution_count": 3,
   "metadata": {},
   "outputs": [
    {
     "name": "stdout",
     "output_type": "stream",
     "text": [
      "int64\n",
      "float64\n"
     ]
    }
   ],
   "source": [
    "print(vectorInt.dtype)\n",
    "print(vectorFloat.dtype)"
   ]
  },
  {
   "cell_type": "markdown",
   "metadata": {},
   "source": [
    "Puedes forzar a que un arreglo se comporte de formas diferentes con la opción dtype."
   ]
  },
  {
   "cell_type": "code",
   "execution_count": 4,
   "metadata": {},
   "outputs": [
    {
     "name": "stdout",
     "output_type": "stream",
     "text": [
      "[1. 2. 3.]\n",
      "float64\n"
     ]
    }
   ],
   "source": [
    "vectorConvertido = np.array(vectorInt, dtype=np.float64)\n",
    "print(vectorConvertido)\n",
    "print(vectorConvertido.dtype)"
   ]
  },
  {
   "cell_type": "markdown",
   "metadata": {},
   "source": [
    "### Creando matrices por primera vez.\n",
    "Hay varias funciones para crear arreglos(1D), matrices(2D), cubos(3D), tensores (4D, etc... de forma automática."
   ]
  },
  {
   "cell_type": "code",
   "execution_count": 5,
   "metadata": {},
   "outputs": [
    {
     "name": "stdout",
     "output_type": "stream",
     "text": [
      "[0. 0. 0. 0.]\n"
     ]
    }
   ],
   "source": [
    "vector = np.zeros(4) # 4 valores...\n",
    "print(vector)"
   ]
  },
  {
   "cell_type": "code",
   "execution_count": 6,
   "metadata": {},
   "outputs": [
    {
     "name": "stdout",
     "output_type": "stream",
     "text": [
      "[[0. 0. 0.]\n",
      " [0. 0. 0.]\n",
      " [0. 0. 0.]\n",
      " [0. 0. 0.]]\n"
     ]
    }
   ],
   "source": [
    "matriz = np.zeros((4,3)) #matriz = 4 vectores de 3 valores c/u.\n",
    "print(matriz)"
   ]
  },
  {
   "cell_type": "code",
   "execution_count": 7,
   "metadata": {},
   "outputs": [
    {
     "name": "stdout",
     "output_type": "stream",
     "text": [
      "[[[0. 0.]\n",
      "  [0. 0.]\n",
      "  [0. 0.]]\n",
      "\n",
      " [[0. 0.]\n",
      "  [0. 0.]\n",
      "  [0. 0.]]\n",
      "\n",
      " [[0. 0.]\n",
      "  [0. 0.]\n",
      "  [0. 0.]]\n",
      "\n",
      " [[0. 0.]\n",
      "  [0. 0.]\n",
      "  [0. 0.]]]\n"
     ]
    }
   ],
   "source": [
    "cubo = np.zeros((4,3,2)) #cubo = 4 matrices de 3 vectores c/u, de 2 valores c/u...\n",
    "print(cubo)"
   ]
  },
  {
   "cell_type": "markdown",
   "metadata": {},
   "source": [
    "Puedes usar también la función np.ones para generar una matriz de unos."
   ]
  },
  {
   "cell_type": "code",
   "execution_count": 8,
   "metadata": {},
   "outputs": [
    {
     "name": "stdout",
     "output_type": "stream",
     "text": [
      "[[1. 1. 1.]\n",
      " [1. 1. 1.]\n",
      " [1. 1. 1.]]\n"
     ]
    }
   ],
   "source": [
    "matriz = np.ones((3,3))\n",
    "print(matriz)"
   ]
  },
  {
   "cell_type": "code",
   "execution_count": 9,
   "metadata": {},
   "outputs": [
    {
     "name": "stdout",
     "output_type": "stream",
     "text": [
      "[[5. 5. 5.]\n",
      " [5. 5. 5.]\n",
      " [5. 5. 5.]]\n",
      "con full:\n",
      "[[5. 5. 5.]\n",
      " [5. 5. 5.]\n",
      " [5. 5. 5.]]\n"
     ]
    }
   ],
   "source": [
    "#o bien, puedes llenar los datos de una constante.\n",
    "matriz = np.ones((3,3)) * 5.0\n",
    "print(matriz)\n",
    "\n",
    "#equivalente a np.full:\n",
    "print(\"con full:\")\n",
    "matriz = np.full((3,3),5.0)\n",
    "print(matriz)"
   ]
  },
  {
   "cell_type": "markdown",
   "metadata": {},
   "source": [
    "### Inicializando con valores aleatorios\n",
    "De esta manera puedes crear matrices con valores aleatorios y valores aleatorios gaussianos:"
   ]
  },
  {
   "cell_type": "code",
   "execution_count": 14,
   "metadata": {},
   "outputs": [
    {
     "name": "stdout",
     "output_type": "stream",
     "text": [
      "Matriz aleatoria\n",
      "[[0.41115605 0.68539886 0.11356971]\n",
      " [0.89311275 0.27149753 0.05032052]\n",
      " [0.97653511 0.93052425 0.49986312]]\n",
      "---\n",
      "Matriz aleatoria gaussiana\n",
      "[[0.41115605 0.68539886 0.11356971]\n",
      " [0.89311275 0.27149753 0.05032052]\n",
      " [0.97653511 0.93052425 0.49986312]]\n"
     ]
    }
   ],
   "source": [
    "print(\"Matriz aleatoria\")\n",
    "matrizRandom = np.random.rand(3,3)\n",
    "print(matrizRandom)\n",
    "print(\"---\")\n",
    "print(\"Matriz aleatoria gaussiana\")\n",
    "matrizRandomN = np.random.randn(3,3)\n",
    "print(matrizRandom)"
   ]
  },
  {
   "cell_type": "markdown",
   "metadata": {},
   "source": [
    "### Accediendo a un dato en la matriz\n",
    "De esta forma puedes acceder a datos dentro de la matriz:"
   ]
  },
  {
   "cell_type": "code",
   "execution_count": 16,
   "metadata": {},
   "outputs": [
    {
     "name": "stdout",
     "output_type": "stream",
     "text": [
      "2.1\n"
     ]
    }
   ],
   "source": [
    "matriz = [[0.0, 0.1, 0.2],\n",
    "          [1.0, 1.1, 1.2],\n",
    "          [2.0, 2.1, 2.2]]\n",
    "\n",
    "print(matriz[2][1]) #fila 2, columna 1"
   ]
  },
  {
   "cell_type": "code",
   "execution_count": null,
   "metadata": {},
   "outputs": [],
   "source": []
  }
 ],
 "metadata": {
  "kernelspec": {
   "display_name": "Python 3",
   "language": "python",
   "name": "python3"
  },
  "language_info": {
   "codemirror_mode": {
    "name": "ipython",
    "version": 3
   },
   "file_extension": ".py",
   "mimetype": "text/x-python",
   "name": "python",
   "nbconvert_exporter": "python",
   "pygments_lexer": "ipython3",
   "version": "3.5.2"
  }
 },
 "nbformat": 4,
 "nbformat_minor": 2
}
