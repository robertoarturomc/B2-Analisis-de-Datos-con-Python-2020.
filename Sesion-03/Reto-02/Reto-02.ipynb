{
 "cells": [
  {
   "cell_type": "markdown",
   "metadata": {},
   "source": [
    "# Reto 02\n",
    "### Dr. Antonio Arista Jalife.\n",
    "\n",
    "En este reto hay que generar una matriz de 10 x 10 aleatoria, y solamente conservar los valores mayores a 0.5"
   ]
  },
  {
   "cell_type": "code",
   "execution_count": 1,
   "metadata": {},
   "outputs": [],
   "source": [
    "import numpy as np"
   ]
  },
  {
   "cell_type": "code",
   "execution_count": 2,
   "metadata": {},
   "outputs": [
    {
     "name": "stdout",
     "output_type": "stream",
     "text": [
      "[[False  True  True False False  True False False False False]\n",
      " [False False  True  True  True  True False False  True  True]\n",
      " [False False  True  True False  True False  True False  True]\n",
      " [ True  True False False  True  True  True  True  True  True]\n",
      " [ True  True False  True False  True  True False  True  True]\n",
      " [ True False False  True  True  True  True False False False]\n",
      " [False False False  True False  True  True  True  True  True]\n",
      " [ True False False False False False  True False  True False]\n",
      " [False  True False  True False  True False False False  True]\n",
      " [ True  True  True False  True  True False  True  True False]]\n"
     ]
    }
   ],
   "source": [
    "matriz = np.random.rand(10,10)\n",
    "matrizBooleana = (matriz > 0.5)\n",
    "print(matrizBooleana)"
   ]
  },
  {
   "cell_type": "code",
   "execution_count": 3,
   "metadata": {},
   "outputs": [
    {
     "name": "stdout",
     "output_type": "stream",
     "text": [
      "[[0 1 1 0 0 1 0 0 0 0]\n",
      " [0 0 1 1 1 1 0 0 1 1]\n",
      " [0 0 1 1 0 1 0 1 0 1]\n",
      " [1 1 0 0 1 1 1 1 1 1]\n",
      " [1 1 0 1 0 1 1 0 1 1]\n",
      " [1 0 0 1 1 1 1 0 0 0]\n",
      " [0 0 0 1 0 1 1 1 1 1]\n",
      " [1 0 0 0 0 0 1 0 1 0]\n",
      " [0 1 0 1 0 1 0 0 0 1]\n",
      " [1 1 1 0 1 1 0 1 1 0]]\n",
      "Solo los valores mayores a 0.5:\n",
      "[[0.         0.8188233  0.55950468 0.         0.         0.74642011\n",
      "  0.         0.         0.         0.        ]\n",
      " [0.         0.         0.54972443 0.68718908 0.65793837 0.89041867\n",
      "  0.         0.         0.6747728  0.88807696]\n",
      " [0.         0.         0.83551643 0.85441356 0.         0.68848865\n",
      "  0.         0.93102341 0.         0.81730226]\n",
      " [0.77872646 0.87351932 0.         0.         0.70068221 0.57887281\n",
      "  0.8643237  0.76868215 0.86252066 0.59873808]\n",
      " [0.648172   0.8544594  0.         0.8603441  0.         0.71738537\n",
      "  0.52822337 0.         0.99948014 0.86157773]\n",
      " [0.63387942 0.         0.         0.90441096 0.92675149 0.94392576\n",
      "  0.89702509 0.         0.         0.        ]\n",
      " [0.         0.         0.         0.77443237 0.         0.56990112\n",
      "  0.94691842 0.78163409 0.56777209 0.96606568]\n",
      " [0.89286724 0.         0.         0.         0.         0.\n",
      "  0.81689258 0.         0.89485058 0.        ]\n",
      " [0.         0.71407979 0.         0.89717438 0.         0.81525723\n",
      "  0.         0.         0.         0.60308722]\n",
      " [0.88604883 0.94906682 0.63935018 0.         0.99434074 0.74496956\n",
      "  0.         0.86736306 0.50036924 0.        ]]\n"
     ]
    }
   ],
   "source": [
    "filtro = np.array(matrizBooleana, dtype = np.int32)\n",
    "print(filtro)\n",
    "#con este filtro, quitamos todos los elementos mayores a 5\n",
    "resultado = matriz * filtro\n",
    "print(\"Solo los valores mayores a 0.5:\")\n",
    "print(resultado)"
   ]
  },
  {
   "cell_type": "code",
   "execution_count": 5,
   "metadata": {},
   "outputs": [
    {
     "data": {
      "text/plain": [
       "array([0.8188233 , 0.55950468, 0.74642011, 0.54972443, 0.68718908,\n",
       "       0.65793837, 0.89041867, 0.6747728 , 0.88807696, 0.83551643,\n",
       "       0.85441356, 0.68848865, 0.93102341, 0.81730226, 0.77872646,\n",
       "       0.87351932, 0.70068221, 0.57887281, 0.8643237 , 0.76868215,\n",
       "       0.86252066, 0.59873808, 0.648172  , 0.8544594 , 0.8603441 ,\n",
       "       0.71738537, 0.52822337, 0.99948014, 0.86157773, 0.63387942,\n",
       "       0.90441096, 0.92675149, 0.94392576, 0.89702509, 0.77443237,\n",
       "       0.56990112, 0.94691842, 0.78163409, 0.56777209, 0.96606568,\n",
       "       0.89286724, 0.81689258, 0.89485058, 0.71407979, 0.89717438,\n",
       "       0.81525723, 0.60308722, 0.88604883, 0.94906682, 0.63935018,\n",
       "       0.99434074, 0.74496956, 0.86736306, 0.50036924])"
      ]
     },
     "execution_count": 5,
     "metadata": {},
     "output_type": "execute_result"
    }
   ],
   "source": [
    "matriz[matrizBooleana]"
   ]
  },
  {
   "cell_type": "code",
   "execution_count": 6,
   "metadata": {},
   "outputs": [
    {
     "data": {
      "text/plain": [
       "array([0.8188233 , 0.55950468, 0.74642011, 0.54972443, 0.68718908,\n",
       "       0.65793837, 0.89041867, 0.6747728 , 0.88807696, 0.83551643,\n",
       "       0.85441356, 0.68848865, 0.93102341, 0.81730226, 0.77872646,\n",
       "       0.87351932, 0.70068221, 0.57887281, 0.8643237 , 0.76868215,\n",
       "       0.86252066, 0.59873808, 0.648172  , 0.8544594 , 0.8603441 ,\n",
       "       0.71738537, 0.52822337, 0.99948014, 0.86157773, 0.63387942,\n",
       "       0.90441096, 0.92675149, 0.94392576, 0.89702509, 0.77443237,\n",
       "       0.56990112, 0.94691842, 0.78163409, 0.56777209, 0.96606568,\n",
       "       0.89286724, 0.81689258, 0.89485058, 0.71407979, 0.89717438,\n",
       "       0.81525723, 0.60308722, 0.88604883, 0.94906682, 0.63935018,\n",
       "       0.99434074, 0.74496956, 0.86736306, 0.50036924])"
      ]
     },
     "execution_count": 6,
     "metadata": {},
     "output_type": "execute_result"
    }
   ],
   "source": [
    "resultado[resultado>0]"
   ]
  },
  {
   "cell_type": "code",
   "execution_count": null,
   "metadata": {},
   "outputs": [],
   "source": []
  }
 ],
 "metadata": {
  "kernelspec": {
   "display_name": "Python 3",
   "language": "python",
   "name": "python3"
  },
  "language_info": {
   "codemirror_mode": {
    "name": "ipython",
    "version": 3
   },
   "file_extension": ".py",
   "mimetype": "text/x-python",
   "name": "python",
   "nbconvert_exporter": "python",
   "pygments_lexer": "ipython3",
   "version": "3.8.2"
  }
 },
 "nbformat": 4,
 "nbformat_minor": 2
}
