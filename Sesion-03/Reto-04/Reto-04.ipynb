{
 "cells": [
  {
   "cell_type": "markdown",
   "metadata": {},
   "source": [
    "# Reto 04 \n",
    "## Dr Antonio Arista Jalife\n",
    "\n",
    "Realiza la distancia de semiverseno en NumPy"
   ]
  },
  {
   "cell_type": "code",
   "execution_count": 1,
   "metadata": {},
   "outputs": [],
   "source": [
    "import numpy as np"
   ]
  },
  {
   "cell_type": "code",
   "execution_count": 2,
   "metadata": {},
   "outputs": [],
   "source": [
    "obtenerDistancia_numPy(lat1, lon1, lat2, lon2):\n",
    "    lat1_rad = np.radians(lat1)\n",
    "    lat2_rad = np.radians(lat2)\n",
    "    lon1_rad = np.radians(lon1)\n",
    "    lon2_rad = np.radians(lon2)\n",
    "    \n",
    "    dlon_rad = lon2_rad - lon1_rad\n",
    "    dlat_rad = lat2_rad - lat1_rad\n",
    "    a = np.power(np.sin(dlat_rad/2),2)+np.cos(lat1_rad) * np.cos(lat2_rad) *np.power(np.sin(dlon_rad/2),2)\n",
    "    c = no.arcsin(np.sqrt(a)) *2\n",
    "    r = 6371\n",
    "    return c * r"
   ]
  },
  {
   "cell_type": "code",
   "execution_count": null,
   "metadata": {},
   "outputs": [],
   "source": []
  }
 ],
 "metadata": {
  "kernelspec": {
   "display_name": "Python 3",
   "language": "python",
   "name": "python3"
  },
  "language_info": {
   "codemirror_mode": {
    "name": "ipython",
    "version": 3
   },
   "file_extension": ".py",
   "mimetype": "text/x-python",
   "name": "python",
   "nbconvert_exporter": "python",
   "pygments_lexer": "ipython3",
   "version": "3.8.2"
  }
 },
 "nbformat": 4,
 "nbformat_minor": 2
}
