{
 "cells": [
  {
   "cell_type": "markdown",
   "metadata": {},
   "source": [
    "## Ejemplo 02\n",
    "En este ejemplo vamos a mappear datos, para ello, vamos a avanzar por los pasos anteriores (para llegar al mismo estado). Para ello, haré todos los pasos en dos o tres celdas"
   ]
  },
  {
   "cell_type": "code",
   "execution_count": 1,
   "metadata": {},
   "outputs": [],
   "source": [
    "import pandas as pd\n",
    "import numpy as np\n",
    "import json\n",
    "\n",
    "with open(\"meteoritos.json\",\"rt\") as archivo:\n",
    "    json_meteoritos = json.load(archivo)\n",
    "    \n",
    "df_meteoritos = pd.DataFrame.from_dict(json_meteoritos)\n",
    "dataframe = df_meteoritos[['fall','id','mass','name','reclat','reclong']]\n",
    "\n",
    "convert_dictionary= {\n",
    "    'fall':str,\n",
    "    'id':int,\n",
    "    'mass':float,\n",
    "    'name':str,\n",
    "    'reclat':float,\n",
    "    'reclong':float\n",
    "}\n",
    "df_converted = dataframe.astype(convert_dictionary)\n",
    "df_converted.dtypes\n",
    "df_converted = df_converted.dropna(how='any', axis=0)\n",
    "df_converted = df_converted.reset_index()"
   ]
  },
  {
   "cell_type": "code",
   "execution_count": 2,
   "metadata": {},
   "outputs": [],
   "source": [
    "def normalize(values, maxvalue, minvalue):\n",
    "    norm_values = (values - minvalue) / (maxvalue - minvalue)\n",
    "    return norm_values"
   ]
  },
  {
   "cell_type": "code",
   "execution_count": 3,
   "metadata": {},
   "outputs": [
    {
     "name": "stdout",
     "output_type": "stream",
     "text": [
      "Valor máximo: 23000000.0, valor mínimo: 0.15, Num de valores a normalizar:960\n",
      "Normalizado!\n",
      "Valores de 0.0 a 1.0\n",
      "(960,)\n"
     ]
    }
   ],
   "source": [
    "mass_series = df_converted['mass']\n",
    "max_mass = mass_series.max()\n",
    "min_mass = mass_series.min()\n",
    "numpy_mass = mass_series.to_numpy()\n",
    "print(\"Valor máximo: \"+str(max_mass)+\n",
    "      \", valor mínimo: \"+str(min_mass)+\n",
    "      \", Num de valores a normalizar:\"+str(len(numpy_mass)))\n",
    "normalized_mass_np = normalize(numpy_mass, max_mass, min_mass)\n",
    "print(\"Normalizado!\")\n",
    "print(\"Valores de \"+str(np.min(normalized_mass_np))+\" a \"+str(np.max(normalized_mass_np)))\n",
    "print(normalized_mass_np.shape)\n",
    "normalized_df = pd.Series(normalized_mass_np,dtype = float, name=\"Normalized Mass\")\n",
    "df_normalized = df_converted.join(normalized_df)"
   ]
  },
  {
   "cell_type": "markdown",
   "metadata": {},
   "source": [
    "### Mappeo de datos\n",
    "Primero cargamos el histograma\n",
    "(Esto puede tomar un poco de tiempo)"
   ]
  },
  {
   "cell_type": "code",
   "execution_count": 4,
   "metadata": {},
   "outputs": [
    {
     "data": {
      "text/plain": [
       "<matplotlib.axes._subplots.AxesSubplot at 0x7fa68f2a7d30>"
      ]
     },
     "execution_count": 4,
     "metadata": {},
     "output_type": "execute_result"
    },
    {
     "data": {
      "image/png": "[encoded data removed]",
      "text/plain": [
       "<Figure size 432x288 with 1 Axes>"
      ]
     },
     "metadata": {
      "needs_background": "light"
     },
     "output_type": "display_data"
    }
   ],
   "source": [
    "import matplotlib.pyplot as plt\n",
    "%matplotlib inline\n",
    "\n",
    "df_converted['fall'].hist()"
   ]
  },
  {
   "cell_type": "markdown",
   "metadata": {},
   "source": [
    "Una vez creado el histograma, podemos ver que hay dos datos: Fell and found. Con ellos podemos mappear en 1 y 0 de la siguiente forma:"
   ]
  },
  {
   "cell_type": "code",
   "execution_count": 5,
   "metadata": {},
   "outputs": [
    {
     "data": {
      "text/plain": [
       "0      1\n",
       "1      1\n",
       "2      1\n",
       "3      1\n",
       "4      1\n",
       "5      1\n",
       "6      1\n",
       "7      1\n",
       "8      1\n",
       "9      1\n",
       "10     1\n",
       "11     1\n",
       "12     1\n",
       "13     1\n",
       "14     1\n",
       "15     1\n",
       "16     1\n",
       "17     1\n",
       "18     1\n",
       "19     1\n",
       "20     1\n",
       "21     1\n",
       "22     1\n",
       "23     1\n",
       "24     1\n",
       "25     1\n",
       "26     1\n",
       "27     1\n",
       "28     1\n",
       "29     1\n",
       "      ..\n",
       "930    1\n",
       "931    1\n",
       "932    1\n",
       "933    1\n",
       "934    1\n",
       "935    1\n",
       "936    1\n",
       "937    1\n",
       "938    1\n",
       "939    1\n",
       "940    1\n",
       "941    1\n",
       "942    1\n",
       "943    1\n",
       "944    1\n",
       "945    1\n",
       "946    1\n",
       "947    1\n",
       "948    1\n",
       "949    1\n",
       "950    1\n",
       "951    1\n",
       "952    1\n",
       "953    1\n",
       "954    1\n",
       "955    1\n",
       "956    1\n",
       "957    1\n",
       "958    1\n",
       "959    1\n",
       "Name: fall, Length: 960, dtype: int64"
      ]
     },
     "execution_count": 5,
     "metadata": {},
     "output_type": "execute_result"
    }
   ],
   "source": [
    "diccionario_mappeo = {\n",
    "    'Fell':1,\n",
    "    'Found':0\n",
    "}\n",
    "\n",
    "df_mapped = df_converted['fall'].map(diccionario_mappeo)\n",
    "df_mapped"
   ]
  },
  {
   "cell_type": "code",
   "execution_count": null,
   "metadata": {},
   "outputs": [],
   "source": []
  }
 ],
 "metadata": {
  "kernelspec": {
   "display_name": "Python 3",
   "language": "python",
   "name": "python3"
  },
  "language_info": {
   "codemirror_mode": {
    "name": "ipython",
    "version": 3
   },
   "file_extension": ".py",
   "mimetype": "text/x-python",
   "name": "python",
   "nbconvert_exporter": "python",
   "pygments_lexer": "ipython3",
   "version": "3.5.2"
  }
 },
 "nbformat": 4,
 "nbformat_minor": 2
}
