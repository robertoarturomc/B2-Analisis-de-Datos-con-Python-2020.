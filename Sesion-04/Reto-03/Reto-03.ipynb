{
 "cells": [
  {
   "cell_type": "markdown",
   "metadata": {},
   "source": [
    "# Diccionarios, JSONs y Analísis Estadísticos de Datos\n",
    "## Reto 03\n",
    "Describete a tres compañeros con un diccionario. utiliza el método \"Copy\""
   ]
  },
  {
   "cell_type": "code",
   "execution_count": 10,
   "metadata": {},
   "outputs": [],
   "source": [
    "import json"
   ]
  },
  {
   "cell_type": "code",
   "execution_count": 3,
   "metadata": {},
   "outputs": [],
   "source": [
    "profeAntonio = {\n",
    "    'Nombre':'Antonio',\n",
    "    'Apellido':'Arista',\n",
    "    'Edad':32,\n",
    "    'Hobbies':['Artes Marciales', 'Escritura','Lectura'] \n",
    "}"
   ]
  },
  {
   "cell_type": "code",
   "execution_count": 4,
   "metadata": {},
   "outputs": [],
   "source": [
    "persona1 = profeAntonio.copy()\n",
    "persona2 = profeAntonio.copy()\n",
    "persona3 = profeAntonio.copy()"
   ]
  },
  {
   "cell_type": "code",
   "execution_count": 6,
   "metadata": {},
   "outputs": [
    {
     "data": {
      "text/plain": [
       "{'Nombre': 'Paola',\n",
       " 'Apellido': 'Arista',\n",
       " 'Edad': 10,\n",
       " 'Hobbies': ['Artes Marciales', 'Escritura', 'Lectura', 'Cocinar']}"
      ]
     },
     "execution_count": 6,
     "metadata": {},
     "output_type": "execute_result"
    }
   ],
   "source": [
    "persona1['Edad']=10\n",
    "persona1['Nombre']='Paola'\n",
    "persona1['Hobbies'].append('Cocinar')\n",
    "\n",
    "persona1"
   ]
  },
  {
   "cell_type": "code",
   "execution_count": 7,
   "metadata": {},
   "outputs": [],
   "source": [
    "contactos = [persona1, persona2, persona3]"
   ]
  },
  {
   "cell_type": "code",
   "execution_count": 8,
   "metadata": {},
   "outputs": [
    {
     "name": "stdout",
     "output_type": "stream",
     "text": [
      "[{'Nombre': 'Paola', 'Apellido': 'Arista', 'Edad': 10, 'Hobbies': ['Artes Marciales', 'Escritura', 'Lectura', 'Cocinar']}, {'Nombre': 'Antonio', 'Apellido': 'Arista', 'Edad': 32, 'Hobbies': ['Artes Marciales', 'Escritura', 'Lectura', 'Cocinar']}, {'Nombre': 'Antonio', 'Apellido': 'Arista', 'Edad': 32, 'Hobbies': ['Artes Marciales', 'Escritura', 'Lectura', 'Cocinar']}]\n"
     ]
    }
   ],
   "source": [
    "print(contactos)"
   ]
  },
  {
   "cell_type": "code",
   "execution_count": 11,
   "metadata": {},
   "outputs": [
    {
     "name": "stdout",
     "output_type": "stream",
     "text": [
      "{\"Apellido\": \"Arista\", \"Edad\": 32, \"Hobbies\": [\"Artes Marciales\", \"Escritura\", \"Lectura\", \"Cocinar\"], \"Nombre\": \"Antonio\"}\n"
     ]
    }
   ],
   "source": [
    "json_profe = json.dumps(profeAntonio, sort_keys = True)\n",
    "print(json_profe)"
   ]
  },
  {
   "cell_type": "code",
   "execution_count": 12,
   "metadata": {},
   "outputs": [
    {
     "data": {
      "text/plain": [
       "str"
      ]
     },
     "execution_count": 12,
     "metadata": {},
     "output_type": "execute_result"
    }
   ],
   "source": [
    "type(json_profe)"
   ]
  },
  {
   "cell_type": "code",
   "execution_count": 14,
   "metadata": {},
   "outputs": [],
   "source": [
    "with open('contactos.json','wt') as contador:\n",
    "    json.dump(contactos, contador)"
   ]
  },
  {
   "cell_type": "code",
   "execution_count": null,
   "metadata": {},
   "outputs": [],
   "source": []
  }
 ],
 "metadata": {
  "kernelspec": {
   "display_name": "Python 3",
   "language": "python",
   "name": "python3"
  },
  "language_info": {
   "codemirror_mode": {
    "name": "ipython",
    "version": 3
   },
   "file_extension": ".py",
   "mimetype": "text/x-python",
   "name": "python",
   "nbconvert_exporter": "python",
   "pygments_lexer": "ipython3",
   "version": "3.8.2"
  }
 },
 "nbformat": 4,
 "nbformat_minor": 2
}
