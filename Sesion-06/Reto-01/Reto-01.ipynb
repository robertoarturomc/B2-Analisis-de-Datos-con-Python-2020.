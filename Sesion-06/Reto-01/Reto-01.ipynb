{
 "cells": [
  {
   "cell_type": "markdown",
   "metadata": {},
   "source": [
    "## Reto 01\n",
    "Este reto consiste en jugar con las características a plottear (caracteristica_x, caracteristica_y) de tal manera que puedas plottear los datos elegidos en una gráfica de dispersión."
   ]
  },
  {
   "cell_type": "code",
   "execution_count": 4,
   "metadata": {},
   "outputs": [],
   "source": [
    "import matplotlib.pyplot as plt\n",
    "import pandas as pd\n",
    "import numpy as np\n",
    "\n",
    "dataframe_cardio = pd.read_csv('dataset_cardio.csv')\n",
    "#Transformamos el dataframe a Numpy\n",
    "datos_cardio = dataframe_cardio.to_numpy()\n",
    "\n",
    "#Y ahora hacemos que solo sean 2 valores, 0 y 1:\n",
    "for counter in range(0,datos_cardio.shape[0]):\n",
    "    if(datos_cardio[counter,13] > 0):\n",
    "        datos_cardio[counter,13] = 1\n",
    "        \n",
    "pacientes_sanos = datos_cardio[np.where(datos_cardio[:,13] == 0)]\n",
    "pacientes_enfermos = datos_cardio[np.where(datos_cardio[:,13] == 1)]"
   ]
  },
  {
   "cell_type": "markdown",
   "metadata": {},
   "source": [
    "Solución al reto:"
   ]
  },
  {
   "cell_type": "code",
   "execution_count": 12,
   "metadata": {},
   "outputs": [
    {
     "name": "stdout",
     "output_type": "stream",
     "text": [
      "Plotteando: colesterol(X) vs nivel de glucosa(Y)\n"
     ]
    },
    {
     "data": {
      "image/png": "[encoded data removed]",
      "text/plain": [
       "<Figure size 504x504 with 1 Axes>"
      ]
     },
     "metadata": {
      "needs_background": "light"
     },
     "output_type": "display_data"
    }
   ],
   "source": [
    "caracteristica_x = 4\n",
    "caracteristica_y = 5\n",
    "columnas = dataframe_cardio.columns\n",
    "print(\"Plotteando: \"+columnas[caracteristica_x]+\"(X) vs \"+columnas[caracteristica_y]+\"(Y)\")\n",
    "\n",
    "plt.figure(figsize=(7,7))\n",
    "plt.scatter(pacientes_sanos[:,caracteristica_x], pacientes_sanos[:,caracteristica_y], \n",
    "            color='r', s=100, label='Pacientes sanos')\n",
    "plt.scatter(pacientes_enfermos[:,caracteristica_x], pacientes_enfermos[:,caracteristica_y],\n",
    "            color='y', s=100, label='Pacientes enfermos')\n",
    "\n",
    "plt.xlabel(columnas[caracteristica_x])\n",
    "plt.ylabel(columnas[caracteristica_y])\n",
    "plt.legend(loc='best')\n",
    "plt.show()"
   ]
  },
  {
   "cell_type": "code",
   "execution_count": 17,
   "metadata": {},
   "outputs": [
    {
     "name": "stdout",
     "output_type": "stream",
     "text": [
      "presión sanguínea\n",
      "Index(['edad', 'género', 'dolor de pecho', 'presión sanguínea', 'colesterol',\n",
      "       'nivel de glucosa', 'ECG', 'Pulso', 'Angina', 'depresión ST',\n",
      "       'curva ST', 'Vesiculas', 'Defectos', 'Resultado'],\n",
      "      dtype='object')\n"
     ]
    }
   ],
   "source": [
    "print(dataframe_cardio.columns[3])\n",
    "\n",
    "print(dataframe_cardio.columns)"
   ]
  },
  {
   "cell_type": "code",
   "execution_count": 18,
   "metadata": {},
   "outputs": [],
   "source": [
    "# Para abrir la documentacion y ver qué ajustes pueden hacer\n",
    "plt.legend?"
   ]
  },
  {
   "cell_type": "code",
   "execution_count": null,
   "metadata": {},
   "outputs": [],
   "source": []
  }
 ],
 "metadata": {
  "kernelspec": {
   "display_name": "Python 3",
   "language": "python",
   "name": "python3"
  },
  "language_info": {
   "codemirror_mode": {
    "name": "ipython",
    "version": 3
   },
   "file_extension": ".py",
   "mimetype": "text/x-python",
   "name": "python",
   "nbconvert_exporter": "python",
   "pygments_lexer": "ipython3",
   "version": "3.7.3"
  }
 },
 "nbformat": 4,
 "nbformat_minor": 2
}
