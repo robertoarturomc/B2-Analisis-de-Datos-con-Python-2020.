{
 "cells": [
  {
   "cell_type": "markdown",
   "metadata": {},
   "source": [
    "# Diccionarios, JSONs y Analísis Estadísticos de Datos\n",
    "## Reto 04\n",
    "Genera métodos que: \n",
    "1. Agreguen diccionarios a una lista, \n",
    "2. Transforme la lista en JSON\n",
    "3. Guardar el JSON en un archivo."
   ]
  },
  {
   "cell_type": "code",
   "execution_count": 5,
   "metadata": {},
   "outputs": [],
   "source": [
    "import json"
   ]
  },
  {
   "cell_type": "code",
   "execution_count": 6,
   "metadata": {},
   "outputs": [],
   "source": [
    "profeAntonio = {\n",
    "    'Nombre':'Antonio',\n",
    "    'Apellido':'Arista',\n",
    "    'Edad':32,\n",
    "    'Hobbies':['Artes Marciales', 'Escritura','Lectura'] \n",
    "}\n",
    "persona1 = profeAntonio.copy()\n",
    "persona2 = profeAntonio.copy()\n",
    "persona3 = profeAntonio.copy()"
   ]
  },
  {
   "cell_type": "code",
   "execution_count": 7,
   "metadata": {},
   "outputs": [],
   "source": [
    "def agregarDiccionarioALista(lista, diccionario):\n",
    "    lista.append(diccionario)\n",
    "    return lista"
   ]
  },
  {
   "cell_type": "code",
   "execution_count": 8,
   "metadata": {},
   "outputs": [
    {
     "name": "stdout",
     "output_type": "stream",
     "text": [
      "[]\n",
      "[{'Nombre': 'Antonio', 'Edad': 32, 'Apellido': 'Arista', 'Hobbies': ['Artes Marciales', 'Escritura', 'Lectura']}]\n",
      "[{'Nombre': 'Antonio', 'Edad': 32, 'Apellido': 'Arista', 'Hobbies': ['Artes Marciales', 'Escritura', 'Lectura']}, {'Nombre': 'Antonio', 'Edad': 32, 'Apellido': 'Arista', 'Hobbies': ['Artes Marciales', 'Escritura', 'Lectura']}]\n",
      "[{'Nombre': 'Antonio', 'Edad': 32, 'Apellido': 'Arista', 'Hobbies': ['Artes Marciales', 'Escritura', 'Lectura']}, {'Nombre': 'Antonio', 'Edad': 32, 'Apellido': 'Arista', 'Hobbies': ['Artes Marciales', 'Escritura', 'Lectura']}, {'Nombre': 'Antonio', 'Edad': 32, 'Apellido': 'Arista', 'Hobbies': ['Artes Marciales', 'Escritura', 'Lectura']}]\n"
     ]
    }
   ],
   "source": [
    "lista = []\n",
    "print(lista)\n",
    "lista = agregarDiccionarioALista(lista, persona1)\n",
    "print(lista)\n",
    "lista = agregarDiccionarioALista(lista, persona2)\n",
    "print(lista)\n",
    "lista = agregarDiccionarioALista(lista, persona3)\n",
    "print(lista)"
   ]
  },
  {
   "cell_type": "code",
   "execution_count": 9,
   "metadata": {},
   "outputs": [
    {
     "name": "stdout",
     "output_type": "stream",
     "text": [
      "[{\"Nombre\": \"Antonio\", \"Edad\": 32, \"Apellido\": \"Arista\", \"Hobbies\": [\"Artes Marciales\", \"Escritura\", \"Lectura\"]}, {\"Nombre\": \"Antonio\", \"Edad\": 32, \"Apellido\": \"Arista\", \"Hobbies\": [\"Artes Marciales\", \"Escritura\", \"Lectura\"]}, {\"Nombre\": \"Antonio\", \"Edad\": 32, \"Apellido\": \"Arista\", \"Hobbies\": [\"Artes Marciales\", \"Escritura\", \"Lectura\"]}]\n"
     ]
    }
   ],
   "source": [
    "json_lista = json.dumps(lista)\n",
    "print(json_lista)"
   ]
  },
  {
   "cell_type": "code",
   "execution_count": 10,
   "metadata": {},
   "outputs": [],
   "source": [
    "with open(\"resultado.json\",\"wt\") as archivo:\n",
    "    json.dump(json_lista,archivo)"
   ]
  },
  {
   "cell_type": "code",
   "execution_count": null,
   "metadata": {},
   "outputs": [],
   "source": []
  }
 ],
 "metadata": {
  "kernelspec": {
   "display_name": "Python 3",
   "language": "python",
   "name": "python3"
  },
  "language_info": {
   "codemirror_mode": {
    "name": "ipython",
    "version": 3
   },
   "file_extension": ".py",
   "mimetype": "text/x-python",
   "name": "python",
   "nbconvert_exporter": "python",
   "pygments_lexer": "ipython3",
   "version": "3.5.2"
  }
 },
 "nbformat": 4,
 "nbformat_minor": 2
}
