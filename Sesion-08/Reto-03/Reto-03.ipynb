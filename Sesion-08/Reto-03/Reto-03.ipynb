{
 "cells": [
  {
   "cell_type": "markdown",
   "metadata": {},
   "source": [
    "## Reto 03: Hiperparámetros neuronales\n",
    "En este reto modificaremos las capas e hiperparámetros de la red neuronal artificial para ver que tal se comportan. En una celda haré todo el proceso previo para que no tengas que preocuparte mas que para jugar con el modelo"
   ]
  },
  {
   "cell_type": "code",
   "execution_count": 1,
   "metadata": {},
   "outputs": [
    {
     "name": "stderr",
     "output_type": "stream",
     "text": [
      "C:\\Users\\rober\\.conda\\envs\\ramc\\lib\\site-packages\\sklearn\\utils\\deprecation.py:144: FutureWarning: The sklearn.datasets.samples_generator module is  deprecated in version 0.22 and will be removed in version 0.24. The corresponding classes / functions should instead be imported from sklearn.datasets. Anything that cannot be imported from sklearn.datasets is now part of the private API.\n",
      "  warnings.warn(message, FutureWarning)\n"
     ]
    }
   ],
   "source": [
    "import numpy as np\n",
    "import pandas as pd\n",
    "from matplotlib import pyplot as plt\n",
    "from sklearn.datasets.samples_generator import make_blobs\n",
    "from sklearn.model_selection import train_test_split\n",
    "from sklearn.neural_network import MLPClassifier\n",
    "\n",
    "x, y = make_blobs(n_samples=1000, centers=2, n_features=2)\n",
    "x_entrenamiento, x_prueba, y_entrenamiento, y_prueba = train_test_split(x, y, test_size=0.30)"
   ]
  },
  {
   "cell_type": "markdown",
   "metadata": {},
   "source": [
    "Aqui intenta modificar algunos campos y ve que pasa!"
   ]
  },
  {
   "cell_type": "code",
   "execution_count": 6,
   "metadata": {},
   "outputs": [
    {
     "data": {
      "text/plain": [
       "MLPClassifier(activation='logistic', alpha=0.1, batch_size='auto', beta_1=0.9,\n",
       "              beta_2=0.999, early_stopping=False, epsilon=1e-08,\n",
       "              hidden_layer_sizes=(1, 1), learning_rate='constant',\n",
       "              learning_rate_init=0.001, max_fun=15000, max_iter=10000,\n",
       "              momentum=0.9, n_iter_no_change=10, nesterovs_momentum=True,\n",
       "              power_t=0.5, random_state=None, shuffle=True, solver='lbfgs',\n",
       "              tol=0.0001, validation_fraction=0.1, verbose=False,\n",
       "              warm_start=False)"
      ]
     },
     "execution_count": 6,
     "metadata": {},
     "output_type": "execute_result"
    }
   ],
   "source": [
    "algoritmoEntrenamiento= 'lbfgs' # Puedes usar sgd, lbfgs, adam.\n",
    "tasaAprendizaje = 0.1 #Que pasa si la haces mas grande o mas pequeña? ahora es 0.0001\n",
    "iteraciones = 10000 #Pueden ser menos iteraciones... o mas?...\n",
    "capas_neuronales = (1,1) #Cambia las capas, agrega o quita capas, y ve que pasa...\n",
    "\n",
    "clf = MLPClassifier(activation = 'logistic',solver=algoritmoEntrenamiento,\n",
    "                    alpha=tasaAprendizaje, max_iter=iteraciones, hidden_layer_sizes=capas_neuronales)\n",
    "clf.fit(x_entrenamiento, y_entrenamiento) "
   ]
  },
  {
   "cell_type": "markdown",
   "metadata": {},
   "source": [
    "Si cambias los campos, aqui verás los resultados..."
   ]
  },
  {
   "cell_type": "code",
   "execution_count": 7,
   "metadata": {},
   "outputs": [
    {
     "name": "stdout",
     "output_type": "stream",
     "text": [
      "Errores cometidos: 0\n",
      "Precisión: 100.0%\n"
     ]
    }
   ],
   "source": [
    "resultados = clf.predict(x_prueba)\n",
    "errores = np.sum(np.abs(resultados - y_prueba))\n",
    "accuracy = (len(y_prueba)-errores)/len(y_prueba) *100\n",
    "print(\"Errores cometidos: \"+str(errores))\n",
    "print(\"Precisión: \"+str(accuracy)+\"%\")"
   ]
  },
  {
   "cell_type": "code",
   "execution_count": null,
   "metadata": {},
   "outputs": [],
   "source": []
  }
 ],
 "metadata": {
  "kernelspec": {
   "display_name": "Python 3",
   "language": "python",
   "name": "python3"
  },
  "language_info": {
   "codemirror_mode": {
    "name": "ipython",
    "version": 3
   },
   "file_extension": ".py",
   "mimetype": "text/x-python",
   "name": "python",
   "nbconvert_exporter": "python",
   "pygments_lexer": "ipython3",
   "version": "3.8.2"
  }
 },
 "nbformat": 4,
 "nbformat_minor": 2
}
